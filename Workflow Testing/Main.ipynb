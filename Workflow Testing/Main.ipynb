{
 "cells": [
  {
   "cell_type": "code",
   "execution_count": 0,
   "metadata": {
    "application/vnd.databricks.v1+cell": {
     "cellMetadata": {
      "byteLimit": 2048000,
      "implicitDf": true,
      "rowLimit": 10000
     },
     "inputWidgets": {},
     "nuid": "37086593-85cd-4654-ab98-16b7b70d6c36",
     "showTitle": false,
     "tableResultSettingsMap": {},
     "title": ""
    }
   },
   "outputs": [],
   "source": [
    "# %sql\n",
    "# CREATE TABLE aarthi.default.sku_table (\n",
    "#     sku_id INT PRIMARY KEY,\n",
    "#     product_name VARCHAR(255) NOT NULL,\n",
    "#     sku_code VARCHAR(100) NOT NULL,\n",
    "#     quantity INT NOT NULL,\n",
    "#     price DECIMAL(10, 2) NOT NULL\n",
    "# );"
   ]
  },
  {
   "cell_type": "code",
   "execution_count": 0,
   "metadata": {
    "application/vnd.databricks.v1+cell": {
     "cellMetadata": {
      "byteLimit": 2048000,
      "implicitDf": true,
      "rowLimit": 10000
     },
     "inputWidgets": {},
     "nuid": "4b49d20d-b9bf-44fb-b24a-433b61cd39c2",
     "showTitle": false,
     "tableResultSettingsMap": {},
     "title": ""
    }
   },
   "outputs": [],
   "source": [
    "# %sql\n",
    "# INSERT INTO aarthi.default.sku_table (sku_id, product_name, sku_code, quantity, price)\n",
    "# VALUES\n",
    "#     (1,'Laptop', 'SKU001', 10, 800.00),\n",
    "#     (2,'Smartphone', 'SKU002', 50, 500.00),\n",
    "#     (3,'Headphones', 'SKU003', 30, 100.00),\n",
    "#     (4,'Monitor', 'SKU004', 15, 300.00);"
   ]
  },
  {
   "cell_type": "code",
   "execution_count": 0,
   "metadata": {
    "application/vnd.databricks.v1+cell": {
     "cellMetadata": {
      "byteLimit": 2048000,
      "implicitDf": true,
      "rowLimit": 10000
     },
     "inputWidgets": {},
     "nuid": "8ea197e7-4099-475b-9594-d1175bac9bf8",
     "showTitle": false,
     "tableResultSettingsMap": {},
     "title": ""
    }
   },
   "outputs": [],
   "source": [
    "# %sql\n",
    "# CREATE TABLE aarthi.default.revenue_table (\n",
    "#     revenue_id INT PRIMARY KEY,\n",
    "#     sku_id INT,\n",
    "#     sale_amount INT NOT NULL,\n",
    "#     revenue DECIMAL(10, 2) NOT NULL,\n",
    "#     FOREIGN KEY (sku_id) REFERENCES aarthi.default.sku_table(sku_id)\n",
    "# );"
   ]
  },
  {
   "cell_type": "code",
   "execution_count": 0,
   "metadata": {
    "application/vnd.databricks.v1+cell": {
     "cellMetadata": {
      "byteLimit": 2048000,
      "implicitDf": true,
      "rowLimit": 10000
     },
     "inputWidgets": {},
     "nuid": "b7e00aea-2636-4765-aaf0-1989c34250c0",
     "showTitle": false,
     "tableResultSettingsMap": {},
     "title": ""
    }
   },
   "outputs": [],
   "source": [
    "# %sql\n",
    "# INSERT INTO aarthi.default.revenue_table (revenue_id, sku_id, sale_amount, revenue)\n",
    "# VALUES\n",
    "#     (11, 1, 10, 8000.00),  -- 10 units of Laptop, total revenue = 10 * 800.00\n",
    "#     (12, 2, 30, 15000.00), -- 30 units of Smartphone, total revenue = 30 * 500.00\n",
    "#     (13, 3, 20, 2000.00),  -- 20 units of Headphones, total revenue = 20 * 100.00\n",
    "#     (14, 4, 10, 3000.00);  -- 10 units of Monitor, total revenue = 10 * 300.00"
   ]
  },
  {
   "cell_type": "code",
   "execution_count": 0,
   "metadata": {
    "application/vnd.databricks.v1+cell": {
     "cellMetadata": {
      "byteLimit": 2048000,
      "implicitDf": true,
      "rowLimit": 10000
     },
     "inputWidgets": {},
     "nuid": "8f836aea-d226-457b-b417-2ab3f6e81eb9",
     "showTitle": false,
     "tableResultSettingsMap": {},
     "title": ""
    }
   },
   "outputs": [],
   "source": [
    "# %sql\n",
    "# SELECT \n",
    "#     SUM(r.revenue) AS total_revenue,\n",
    "#     SUM(s.quantity * s.price) AS calculated_revenue\n",
    "# FROM aarthi.default.revenue_table r\n",
    "# JOIN aarthi.default.sku_table s ON r.sku_id = s.sku_id;"
   ]
  },
  {
   "cell_type": "code",
   "execution_count": 0,
   "metadata": {
    "application/vnd.databricks.v1+cell": {
     "cellMetadata": {
      "byteLimit": 2048000,
      "rowLimit": 10000
     },
     "inputWidgets": {},
     "nuid": "99057be5-497c-403f-bcc0-75385a7ba453",
     "showTitle": false,
     "tableResultSettingsMap": {},
     "title": ""
    }
   },
   "outputs": [],
   "source": [
    "from pyspark.sql import SparkSession\n",
    "from pyspark.sql.functions import col\n",
    "\n",
    "# Initialize Spark session\n",
    "spark = SparkSession.builder.appName(\"Create Revenue Tables\").getOrCreate()\n",
    "\n",
    "# Sample data for the `sku` table (product details)\n",
    "sku_data = [\n",
    "    ('sku_001', 'Product A', 10, 5.0),  # (sku_id, product_name, quantity, price)\n",
    "    ('sku_002', 'Product B', 20, 3.0),\n",
    "    ('sku_003', 'Product C', 15, 7.0)\n",
    "]\n",
    "\n",
    "# Define the schema for the `sku` table\n",
    "sku_columns = ['sku_id', 'product_name', 'quantity', 'price']\n",
    "\n",
    "# Create DataFrame for the `sku` table\n",
    "sku_df = spark.createDataFrame(sku_data, schema=sku_columns)\n",
    "\n",
    "# Show the `sku` table\n",
    "sku_df.show()\n",
    "\n",
    "# Sample data for the `revenue` table (revenue details for products)\n",
    "revenue_data = [ \n",
    "    ('sku_001', 50.0),  # (sku_id, revenue)\n",
    "    ('sku_002', 60.0),\n",
    "    ('sku_003', 106.0)\n",
    "]\n",
    "\n",
    "# Define the schema for the `revenue` table\n",
    "revenue_columns = ['sku_id', 'revenue']\n",
    "\n",
    "# Create DataFrame for the `revenue` table\n",
    "revenue_df = spark.createDataFrame(revenue_data, schema=revenue_columns)\n",
    "\n",
    "# Show the `revenue` table\n",
    "revenue_df.show()\n",
    "\n",
    "# Perform Regression Test: Compare the total revenue from the `revenue` table and calculated revenue from `sku` table\n",
    "\n",
    "# Calculate the total revenue from the `revenue` table\n",
    "total_revenue_from_revenue_table = revenue_df.agg({'revenue': 'sum'}).collect()[0][0]\n",
    "\n",
    "# Calculate the revenue based on `sku` table (quantity * price)\n",
    "calculated_revenue = sku_df.withColumn('calculated_revenue', col('quantity') * col('price')) \\\n",
    "                           .agg({'calculated_revenue': 'sum'}).collect()[0][0]\n",
    "\n",
    "print(f\"Total revenue from revenue table: {total_revenue_from_revenue_table}\")\n",
    "print(f\"Calculated revenue based on SKU table: {calculated_revenue}\")\n",
    "\n",
    "# Perform regression test\n",
    "if total_revenue_from_revenue_table == calculated_revenue:\n",
    "    print(\"Regression test passed: Revenue is consistent\")\n",
    "else:\n",
    "    print(f\"Regression test failed: {total_revenue_from_revenue_table} != {calculated_revenue}\")\n",
    "    raise Exception(\"Regression test failed\")\n"
   ]
  },
  {
   "cell_type": "code",
   "execution_count": 0,
   "metadata": {
    "application/vnd.databricks.v1+cell": {
     "cellMetadata": {},
     "inputWidgets": {},
     "nuid": "b1687f89-bd37-4037-a81b-be604bce140b",
     "showTitle": false,
     "tableResultSettingsMap": {},
     "title": ""
    }
   },
   "outputs": [],
   "source": []
  }
 ],
 "metadata": {
  "application/vnd.databricks.v1+notebook": {
   "computePreferences": null,
   "dashboards": [],
   "environmentMetadata": {
    "base_environment": "",
    "environment_version": "2"
   },
   "language": "python",
   "notebookMetadata": {
    "mostRecentlyExecutedCommandWithImplicitDF": {
     "commandId": 893528767918440,
     "dataframes": [
      "_sqldf"
     ]
    },
    "pythonIndentUnit": 2
   },
   "notebookName": "Main",
   "widgets": {}
  },
  "language_info": {
   "name": "python"
  }
 },
 "nbformat": 4,
 "nbformat_minor": 0
}
